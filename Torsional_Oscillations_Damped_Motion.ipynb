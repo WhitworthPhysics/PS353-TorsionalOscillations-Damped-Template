{
  "nbformat": 4,
  "nbformat_minor": 0,
  "metadata": {
    "colab": {
      "name": "Torsional Oscillations-Damped Motion.ipynb",
      "provenance": [],
      "collapsed_sections": [],
      "authorship_tag": "ABX9TyNzr2xnvv0DJ9ZrAtmuxdC+"
    },
    "kernelspec": {
      "name": "python3",
      "display_name": "Python 3"
    },
    "language_info": {
      "name": "python"
    }
  },
  "cells": [
    {
      "cell_type": "markdown",
      "source": [
        "**Work was done by:** \n",
        "\n",
        "**Data was collected on:**"
      ],
      "metadata": {
        "id": "6h9fSwBp-3LX"
      }
    },
    {
      "cell_type": "markdown",
      "source": [
        "# Install and Import Libraries"
      ],
      "metadata": {
        "id": "-9QUcMKp-6Uj"
      }
    },
    {
      "cell_type": "code",
      "execution_count": null,
      "metadata": {
        "id": "6ml06Fez-yaI"
      },
      "outputs": [],
      "source": [
        "!pip install whit-phys-util 1>/dev/null"
      ]
    },
    {
      "cell_type": "code",
      "source": [
        "import numpy as np\n",
        "import pandas as pd\n",
        "import matplotlib.pyplot as plt\n",
        "import whit_phys_util as buc\n",
        "from scipy.optimize import curve_fit\n",
        "from numpy import exp, cos, pi, sqrt"
      ],
      "metadata": {
        "id": "0MWqNh0H_GnF"
      },
      "execution_count": null,
      "outputs": []
    },
    {
      "cell_type": "markdown",
      "source": [
        "# Connect to GitHub"
      ],
      "metadata": {
        "id": "h_zLUTVq--qN"
      }
    },
    {
      "cell_type": "code",
      "source": [
        "repo = buc.local_repository(\"replace me\")"
      ],
      "metadata": {
        "id": "L91jkLqV_Lcj"
      },
      "execution_count": null,
      "outputs": []
    },
    {
      "cell_type": "markdown",
      "source": [
        "# Equipment\n",
        "\n",
        "| Description | Manufacturer | Model | ID or SN |\n",
        "| ----------- | ------------ | ----- | -------- |\n",
        "| torsional oscillator | TeachSpin | | |\n",
        "| digital multimeter | | | |\n",
        "| oscilloscope | | | |"
      ],
      "metadata": {
        "id": "w5Fozn-I_OfD"
      }
    },
    {
      "cell_type": "markdown",
      "source": [
        "# Linear Drag"
      ],
      "metadata": {
        "id": "MHmQf3Q3_YM8"
      }
    },
    {
      "cell_type": "code",
      "source": [
        "linearDataFileNames = [\"???.csv\",\n",
        "                       \"???.csv\"\n",
        "                       ]"
      ],
      "metadata": {
        "id": "QW9tDUev_UNr"
      },
      "execution_count": null,
      "outputs": []
    },
    {
      "cell_type": "markdown",
      "source": [
        "## Analysis of Sample Set"
      ],
      "metadata": {
        "id": "xp2tHSo6_0kc"
      }
    },
    {
      "cell_type": "code",
      "source": [
        "repo.pull()"
      ],
      "metadata": {
        "id": "s0LeS6SQ__6R"
      },
      "execution_count": null,
      "outputs": []
    },
    {
      "cell_type": "code",
      "source": [
        ""
      ],
      "metadata": {
        "id": "ndGeXriyAEkD"
      },
      "execution_count": null,
      "outputs": []
    },
    {
      "cell_type": "markdown",
      "source": [
        "## Analysis of All Sets"
      ],
      "metadata": {
        "id": "uOfWfptRAHhy"
      }
    },
    {
      "cell_type": "code",
      "source": [
        ""
      ],
      "metadata": {
        "id": "BeiK3riaALma"
      },
      "execution_count": null,
      "outputs": []
    },
    {
      "cell_type": "markdown",
      "source": [
        "## Reflection"
      ],
      "metadata": {
        "id": "PUCp7-07AXzh"
      }
    },
    {
      "cell_type": "markdown",
      "source": [
        ""
      ],
      "metadata": {
        "id": "DWWsjX3XAbEb"
      }
    },
    {
      "cell_type": "markdown",
      "source": [
        "# Quadratic Drag"
      ],
      "metadata": {
        "id": "fdN9xZGRAb1t"
      }
    },
    {
      "cell_type": "code",
      "source": [
        ""
      ],
      "metadata": {
        "id": "bnalduF1AY7i"
      },
      "execution_count": null,
      "outputs": []
    },
    {
      "cell_type": "markdown",
      "source": [
        "# Summary and Conclusion"
      ],
      "metadata": {
        "id": "6Mwqyy0BAjXJ"
      }
    },
    {
      "cell_type": "markdown",
      "source": [
        ""
      ],
      "metadata": {
        "id": "-sxsa0VgAlkq"
      }
    }
  ]
}